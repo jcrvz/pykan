{
 "cells": [
  {
   "metadata": {},
   "cell_type": "markdown",
   "source": "# Fractal Katenary Network",
   "id": "f4e1cd5f50834a85"
  },
  {
   "metadata": {
    "ExecuteTime": {
     "end_time": "2024-06-14T22:09:54.302218Z",
     "start_time": "2024-06-14T22:09:52.331004Z"
    }
   },
   "cell_type": "code",
   "source": [
    "import pandas as pd\n",
    "import numpy as np\n",
    "import os\n",
    "import matplotlib.pyplot as plt\n",
    "%matplotlib inline\n",
    "import seaborn as sns\n",
    "import kan\n",
    "import sklearn as skl\n",
    "import torch\n",
    "from mittag_leffler import ml"
   ],
   "id": "d3c177d97f44104a",
   "outputs": [],
   "execution_count": 1
  },
  {
   "metadata": {},
   "cell_type": "markdown",
   "source": "# Initialize Data",
   "id": "a339e275de6b3b77"
  },
  {
   "metadata": {
    "ExecuteTime": {
     "end_time": "2024-06-14T22:09:54.332528Z",
     "start_time": "2024-06-14T22:09:54.303712Z"
    }
   },
   "cell_type": "code",
   "source": [
    "datafolder = \"./datasets\"\n",
    "\n",
    "raw_data = []\n",
    "volumes = []\n",
    "\n",
    "# Read all csv files and append them in a list\n",
    "for file in os.listdir(datafolder):\n",
    "    volume_str, ext = file.split(\".\")\n",
    "    if ext == \"csv\":\n",
    "        volumes.append(volume_str.replace(\"_\", \".\").split(\"ml\")[0])\n",
    "        simple_df = pd.read_csv(os.path.join(datafolder, file), \n",
    "                                names=[\"x_raw\", \"y_raw\"], decimal=\",\", delimiter=\";\")\n",
    "        raw_data.append(simple_df)"
   ],
   "id": "3a9bc9816cfb2c9a",
   "outputs": [],
   "execution_count": 2
  },
  {
   "metadata": {
    "ExecuteTime": {
     "end_time": "2024-06-14T22:09:54.338040Z",
     "start_time": "2024-06-14T22:09:54.334411Z"
    }
   },
   "cell_type": "code",
   "source": [
    "# Sort the files depending on their name, related to the volume\n",
    "volumes_float = [float(vol) for vol in volumes]\n",
    "indices = np.argsort(volumes_float)\n",
    "#np.array(volumes_float)[indices]"
   ],
   "id": "ea7a4021da9657ca",
   "outputs": [],
   "execution_count": 3
  },
  {
   "metadata": {
    "ExecuteTime": {
     "end_time": "2024-06-14T22:09:54.366330Z",
     "start_time": "2024-06-14T22:09:54.340322Z"
    }
   },
   "cell_type": "code",
   "source": [
    "df = pd.concat(np.array(raw_data, dtype=object)[indices],\n",
    "               keys=np.array(volumes_float)[indices])\\\n",
    "    .rename_axis([\"volume\", \"id\"])\\\n",
    "    .reset_index()\n",
    "del df[\"id\"]\n",
    "df"
   ],
   "id": "a387f9c493401d3",
   "outputs": [
    {
     "data": {
      "text/plain": [
       "      volume      x_raw      y_raw\n",
       "0        0.0 -31.435066  31.556107\n",
       "1        0.0 -31.100789  30.498769\n",
       "2        0.0 -30.614569  29.815464\n",
       "3        0.0 -30.249904  29.151295\n",
       "4        0.0 -29.946017  28.416119\n",
       "...      ...        ...        ...\n",
       "2116    27.0  31.108729  33.266380\n",
       "2117    27.0  31.420994  33.769498\n",
       "2118    27.0  31.777868  35.062518\n",
       "2119    27.0  32.090134  35.593569\n",
       "2120    27.0  32.220920  36.354422\n",
       "\n",
       "[2121 rows x 3 columns]"
      ],
      "text/html": [
       "<div>\n",
       "<style scoped>\n",
       "    .dataframe tbody tr th:only-of-type {\n",
       "        vertical-align: middle;\n",
       "    }\n",
       "\n",
       "    .dataframe tbody tr th {\n",
       "        vertical-align: top;\n",
       "    }\n",
       "\n",
       "    .dataframe thead th {\n",
       "        text-align: right;\n",
       "    }\n",
       "</style>\n",
       "<table border=\"1\" class=\"dataframe\">\n",
       "  <thead>\n",
       "    <tr style=\"text-align: right;\">\n",
       "      <th></th>\n",
       "      <th>volume</th>\n",
       "      <th>x_raw</th>\n",
       "      <th>y_raw</th>\n",
       "    </tr>\n",
       "  </thead>\n",
       "  <tbody>\n",
       "    <tr>\n",
       "      <th>0</th>\n",
       "      <td>0.0</td>\n",
       "      <td>-31.435066</td>\n",
       "      <td>31.556107</td>\n",
       "    </tr>\n",
       "    <tr>\n",
       "      <th>1</th>\n",
       "      <td>0.0</td>\n",
       "      <td>-31.100789</td>\n",
       "      <td>30.498769</td>\n",
       "    </tr>\n",
       "    <tr>\n",
       "      <th>2</th>\n",
       "      <td>0.0</td>\n",
       "      <td>-30.614569</td>\n",
       "      <td>29.815464</td>\n",
       "    </tr>\n",
       "    <tr>\n",
       "      <th>3</th>\n",
       "      <td>0.0</td>\n",
       "      <td>-30.249904</td>\n",
       "      <td>29.151295</td>\n",
       "    </tr>\n",
       "    <tr>\n",
       "      <th>4</th>\n",
       "      <td>0.0</td>\n",
       "      <td>-29.946017</td>\n",
       "      <td>28.416119</td>\n",
       "    </tr>\n",
       "    <tr>\n",
       "      <th>...</th>\n",
       "      <td>...</td>\n",
       "      <td>...</td>\n",
       "      <td>...</td>\n",
       "    </tr>\n",
       "    <tr>\n",
       "      <th>2116</th>\n",
       "      <td>27.0</td>\n",
       "      <td>31.108729</td>\n",
       "      <td>33.266380</td>\n",
       "    </tr>\n",
       "    <tr>\n",
       "      <th>2117</th>\n",
       "      <td>27.0</td>\n",
       "      <td>31.420994</td>\n",
       "      <td>33.769498</td>\n",
       "    </tr>\n",
       "    <tr>\n",
       "      <th>2118</th>\n",
       "      <td>27.0</td>\n",
       "      <td>31.777868</td>\n",
       "      <td>35.062518</td>\n",
       "    </tr>\n",
       "    <tr>\n",
       "      <th>2119</th>\n",
       "      <td>27.0</td>\n",
       "      <td>32.090134</td>\n",
       "      <td>35.593569</td>\n",
       "    </tr>\n",
       "    <tr>\n",
       "      <th>2120</th>\n",
       "      <td>27.0</td>\n",
       "      <td>32.220920</td>\n",
       "      <td>36.354422</td>\n",
       "    </tr>\n",
       "  </tbody>\n",
       "</table>\n",
       "<p>2121 rows × 3 columns</p>\n",
       "</div>"
      ]
     },
     "execution_count": 4,
     "metadata": {},
     "output_type": "execute_result"
    }
   ],
   "execution_count": 4
  },
  {
   "metadata": {
    "ExecuteTime": {
     "end_time": "2024-06-14T22:09:56.083067Z",
     "start_time": "2024-06-14T22:09:54.368128Z"
    }
   },
   "cell_type": "code",
   "source": [
    "sns.lineplot(data=df, x=\"x_raw\", y=\"y_raw\", hue=\"volume\")\n",
    "plt.show()"
   ],
   "id": "6072508f3a6f254d",
   "outputs": [
    {
     "data": {
      "text/plain": [
       "<Figure size 640x480 with 1 Axes>"
      ],
      "image/png": "[encoded data removed]"
     },
     "metadata": {},
     "output_type": "display_data"
    }
   ],
   "execution_count": 5
  },
  {
   "metadata": {
    "ExecuteTime": {
     "end_time": "2024-06-14T22:09:56.126880Z",
     "start_time": "2024-06-14T22:09:56.084988Z"
    }
   },
   "cell_type": "code",
   "source": [
    "df[\"x\"] = df.groupby([\"volume\"])[\"x_raw\"].apply(\n",
    "    lambda x: 2 * (x - min(x)) / (max(x) - min(x)) - 1).reset_index(drop=True)\n",
    "df[\"y\"] = df.groupby([\"volume\"])[\"y_raw\"].apply(\n",
    "    lambda y: (y - max(y)) / (max(y) - min(y))).reset_index(drop=True)\n",
    "df"
   ],
   "id": "ae5bb42648e4846f",
   "outputs": [
    {
     "data": {
      "text/plain": [
       "      volume      x_raw      y_raw         x         y\n",
       "0        0.0 -31.435066  31.556107 -1.000000  0.000000\n",
       "1        0.0 -31.100789  30.498769 -0.988928 -0.033161\n",
       "2        0.0 -30.614569  29.815464 -0.972823 -0.054592\n",
       "3        0.0 -30.249904  29.151295 -0.960745 -0.075422\n",
       "4        0.0 -29.946017  28.416119 -0.950679 -0.098479\n",
       "...      ...        ...        ...       ...       ...\n",
       "2116    27.0  31.108729  33.266380  0.963484 -0.086339\n",
       "2117    27.0  31.420994  33.769498  0.973737 -0.072580\n",
       "2118    27.0  31.777868  35.062518  0.985454 -0.037216\n",
       "2119    27.0  32.090134  35.593569  0.995706 -0.022693\n",
       "2120    27.0  32.220920  36.354422  1.000000 -0.001884\n",
       "\n",
       "[2121 rows x 5 columns]"
      ],
      "text/html": [
       "<div>\n",
       "<style scoped>\n",
       "    .dataframe tbody tr th:only-of-type {\n",
       "        vertical-align: middle;\n",
       "    }\n",
       "\n",
       "    .dataframe tbody tr th {\n",
       "        vertical-align: top;\n",
       "    }\n",
       "\n",
       "    .dataframe thead th {\n",
       "        text-align: right;\n",
       "    }\n",
       "</style>\n",
       "<table border=\"1\" class=\"dataframe\">\n",
       "  <thead>\n",
       "    <tr style=\"text-align: right;\">\n",
       "      <th></th>\n",
       "      <th>volume</th>\n",
       "      <th>x_raw</th>\n",
       "      <th>y_raw</th>\n",
       "      <th>x</th>\n",
       "      <th>y</th>\n",
       "    </tr>\n",
       "  </thead>\n",
       "  <tbody>\n",
       "    <tr>\n",
       "      <th>0</th>\n",
       "      <td>0.0</td>\n",
       "      <td>-31.435066</td>\n",
       "      <td>31.556107</td>\n",
       "      <td>-1.000000</td>\n",
       "      <td>0.000000</td>\n",
       "    </tr>\n",
       "    <tr>\n",
       "      <th>1</th>\n",
       "      <td>0.0</td>\n",
       "      <td>-31.100789</td>\n",
       "      <td>30.498769</td>\n",
       "      <td>-0.988928</td>\n",
       "      <td>-0.033161</td>\n",
       "    </tr>\n",
       "    <tr>\n",
       "      <th>2</th>\n",
       "      <td>0.0</td>\n",
       "      <td>-30.614569</td>\n",
       "      <td>29.815464</td>\n",
       "      <td>-0.972823</td>\n",
       "      <td>-0.054592</td>\n",
       "    </tr>\n",
       "    <tr>\n",
       "      <th>3</th>\n",
       "      <td>0.0</td>\n",
       "      <td>-30.249904</td>\n",
       "      <td>29.151295</td>\n",
       "      <td>-0.960745</td>\n",
       "      <td>-0.075422</td>\n",
       "    </tr>\n",
       "    <tr>\n",
       "      <th>4</th>\n",
       "      <td>0.0</td>\n",
       "      <td>-29.946017</td>\n",
       "      <td>28.416119</td>\n",
       "      <td>-0.950679</td>\n",
       "      <td>-0.098479</td>\n",
       "    </tr>\n",
       "    <tr>\n",
       "      <th>...</th>\n",
       "      <td>...</td>\n",
       "      <td>...</td>\n",
       "      <td>...</td>\n",
       "      <td>...</td>\n",
       "      <td>...</td>\n",
       "    </tr>\n",
       "    <tr>\n",
       "      <th>2116</th>\n",
       "      <td>27.0</td>\n",
       "      <td>31.108729</td>\n",
       "      <td>33.266380</td>\n",
       "      <td>0.963484</td>\n",
       "      <td>-0.086339</td>\n",
       "    </tr>\n",
       "    <tr>\n",
       "      <th>2117</th>\n",
       "      <td>27.0</td>\n",
       "      <td>31.420994</td>\n",
       "      <td>33.769498</td>\n",
       "      <td>0.973737</td>\n",
       "      <td>-0.072580</td>\n",
       "    </tr>\n",
       "    <tr>\n",
       "      <th>2118</th>\n",
       "      <td>27.0</td>\n",
       "      <td>31.777868</td>\n",
       "      <td>35.062518</td>\n",
       "      <td>0.985454</td>\n",
       "      <td>-0.037216</td>\n",
       "    </tr>\n",
       "    <tr>\n",
       "      <th>2119</th>\n",
       "      <td>27.0</td>\n",
       "      <td>32.090134</td>\n",
       "      <td>35.593569</td>\n",
       "      <td>0.995706</td>\n",
       "      <td>-0.022693</td>\n",
       "    </tr>\n",
       "    <tr>\n",
       "      <th>2120</th>\n",
       "      <td>27.0</td>\n",
       "      <td>32.220920</td>\n",
       "      <td>36.354422</td>\n",
       "      <td>1.000000</td>\n",
       "      <td>-0.001884</td>\n",
       "    </tr>\n",
       "  </tbody>\n",
       "</table>\n",
       "<p>2121 rows × 5 columns</p>\n",
       "</div>"
      ]
     },
     "execution_count": 6,
     "metadata": {},
     "output_type": "execute_result"
    }
   ],
   "execution_count": 6
  },
  {
   "metadata": {
    "ExecuteTime": {
     "end_time": "2024-06-14T22:09:57.489892Z",
     "start_time": "2024-06-14T22:09:56.128147Z"
    }
   },
   "cell_type": "code",
   "source": [
    "sns.lineplot(data=df, x=\"x\", y=\"y\", hue=\"volume\")\n",
    "plt.show()"
   ],
   "id": "62e7425ded013a2f",
   "outputs": [
    {
     "data": {
      "text/plain": [
       "<Figure size 640x480 with 1 Axes>"
      ],
      "image/png": "[encoded data removed]"
     },
     "metadata": {},
     "output_type": "display_data"
    }
   ],
   "execution_count": 7
  },
  {
   "metadata": {
    "ExecuteTime": {
     "end_time": "2024-06-14T22:09:57.500728Z",
     "start_time": "2024-06-14T22:09:57.491809Z"
    }
   },
   "cell_type": "code",
   "source": [
    "# Create a dataset\n",
    "X = df[[\"volume\", \"x\"]].values\n",
    "Y = df[\"y\"].values\n",
    "\n",
    "X = torch.tensor(X, dtype=torch.float32)\n",
    "Y = torch.tensor(Y, dtype=torch.float32)"
   ],
   "id": "b25d67d114e8ca47",
   "outputs": [],
   "execution_count": 8
  },
  {
   "metadata": {
    "ExecuteTime": {
     "end_time": "2024-06-14T22:09:57.528542Z",
     "start_time": "2024-06-14T22:09:57.502699Z"
    }
   },
   "cell_type": "code",
   "source": [
    "dataset = {}\n",
    "dataset['train_input'], dataset['test_input'], dataset['train_label'], dataset['test_label'] = skl.model_selection.train_test_split(X, Y, test_size=0.2, random_state=42)\n",
    "\n",
    "dataset"
   ],
   "id": "d4dc1cf6a44ea9d6",
   "outputs": [
    {
     "data": {
      "text/plain": [
       "{'train_input': tensor([[27.0000, -0.9272],\n",
       "         [22.5000, -0.1526],\n",
       "         [ 7.5000,  0.4702],\n",
       "         ...,\n",
       "         [15.0000, -0.5890],\n",
       "         [18.0000, -0.2927],\n",
       "         [ 9.0000, -0.3839]]),\n",
       " 'test_input': tensor([[ 2.5500e+01, -7.7659e-01],\n",
       "         [ 1.9500e+01,  7.6997e-01],\n",
       "         [ 3.0000e+00, -8.0655e-01],\n",
       "         [ 2.2500e+01,  5.4284e-01],\n",
       "         [ 2.5500e+01, -6.3373e-01],\n",
       "         [ 1.8000e+01,  2.2825e-01],\n",
       "         [ 9.0000e+00,  8.0747e-01],\n",
       "         [ 2.4000e+01, -6.6219e-01],\n",
       "         [ 4.5000e+00,  5.3775e-01],\n",
       "         [ 2.5500e+01, -8.4499e-01],\n",
       "         [ 1.9500e+01, -4.8239e-01],\n",
       "         [ 2.4000e+01,  6.4144e-01],\n",
       "         [ 7.5000e+00,  7.3658e-01],\n",
       "         [ 2.7000e+01,  5.7629e-01],\n",
       "         [ 1.0500e+01, -1.4410e-02],\n",
       "         [ 0.0000e+00, -2.1188e-01],\n",
       "         [ 1.5000e+00, -2.9296e-02],\n",
       "         [ 1.5000e+00,  6.0803e-01],\n",
       "         [ 1.5000e+01, -9.6738e-01],\n",
       "         [ 2.2500e+01,  5.2845e-01],\n",
       "         [ 2.5500e+01, -6.1361e-01],\n",
       "         [ 4.5000e+00, -9.4249e-01],\n",
       "         [ 1.9500e+01,  1.5247e-02],\n",
       "         [ 1.5000e+01, -1.6085e-01],\n",
       "         [ 7.5000e+00,  2.8827e-02],\n",
       "         [ 1.9500e+01, -9.1584e-01],\n",
       "         [ 3.0000e+00, -6.5139e-01],\n",
       "         [ 6.0000e+00,  8.0483e-01],\n",
       "         [ 4.5000e+00,  1.0851e-01],\n",
       "         [ 2.5500e+01, -7.4087e-01],\n",
       "         [ 2.4000e+01, -4.0976e-01],\n",
       "         [ 1.5000e+01, -2.8772e-01],\n",
       "         [ 6.0000e+00, -7.4447e-01],\n",
       "         [ 2.2500e+01,  1.8790e-01],\n",
       "         [ 1.0500e+01, -8.5956e-01],\n",
       "         [ 6.0000e+00, -4.6881e-01],\n",
       "         [ 2.7000e+01, -1.4919e-01],\n",
       "         [ 4.5000e+00, -7.3523e-01],\n",
       "         [ 1.0500e+01, -6.5142e-01],\n",
       "         [ 1.0500e+01, -9.5608e-02],\n",
       "         [ 1.0500e+01, -6.9259e-01],\n",
       "         [ 0.0000e+00,  6.3362e-01],\n",
       "         [ 1.5000e+01, -4.6585e-01],\n",
       "         [ 0.0000e+00, -1.5551e-01],\n",
       "         [ 1.9500e+01,  1.2503e-01],\n",
       "         [ 6.0000e+00,  2.0624e-02],\n",
       "         [ 1.9500e+01,  6.9018e-01],\n",
       "         [ 9.0000e+00, -7.1348e-02],\n",
       "         [ 4.5000e+00, -1.3989e-01],\n",
       "         [ 1.5000e+01,  2.8546e-01],\n",
       "         [ 2.5500e+01,  2.5154e-01],\n",
       "         [ 3.0000e+00,  6.2217e-01],\n",
       "         [ 1.5000e+00,  8.0965e-01],\n",
       "         [ 4.5000e+00, -4.6855e-01],\n",
       "         [ 1.8000e+01,  7.9887e-01],\n",
       "         [ 3.0000e+00, -4.0353e-01],\n",
       "         [ 7.5000e+00,  1.9781e-01],\n",
       "         [ 2.4000e+01,  9.6416e-01],\n",
       "         [ 1.8000e+01, -4.1707e-01],\n",
       "         [ 4.5000e+00, -6.6412e-01],\n",
       "         [ 1.8000e+01, -9.0692e-01],\n",
       "         [ 1.0500e+01, -8.3898e-01],\n",
       "         [ 1.0500e+01,  9.9543e-01],\n",
       "         [ 9.0000e+00,  9.0091e-01],\n",
       "         [ 0.0000e+00, -6.5627e-01],\n",
       "         [ 3.0000e+00, -5.4861e-01],\n",
       "         [ 1.9500e+01,  9.9715e-01],\n",
       "         [ 2.7000e+01,  2.5025e-01],\n",
       "         [ 2.5500e+01, -4.2650e-01],\n",
       "         [ 2.2500e+01,  9.0505e-01],\n",
       "         [ 1.0500e+01, -1.9167e-01],\n",
       "         [ 3.0000e+00, -6.5743e-01],\n",
       "         [ 3.0000e+00,  8.1763e-01],\n",
       "         [ 7.5000e+00, -5.3678e-02],\n",
       "         [ 1.0500e+01,  9.5425e-01],\n",
       "         [ 1.8000e+01, -1.2333e-01],\n",
       "         [ 0.0000e+00, -4.0111e-01],\n",
       "         [ 1.5000e+00,  4.8825e-01],\n",
       "         [ 4.5000e+00, -2.1532e-02],\n",
       "         [ 2.7000e+01, -8.5221e-01],\n",
       "         [ 4.5000e+00,  5.2606e-01],\n",
       "         [ 2.4000e+01,  6.0225e-01],\n",
       "         [ 2.4000e+01,  3.9835e-01],\n",
       "         [ 1.9500e+01, -3.9947e-01],\n",
       "         [ 2.5500e+01, -4.4058e-01],\n",
       "         [ 1.9500e+01, -8.2842e-01],\n",
       "         [ 2.4000e+01,  2.3736e-01],\n",
       "         [ 1.0500e+01,  6.5919e-01],\n",
       "         [ 7.5000e+00, -8.1213e-01],\n",
       "         [ 6.0000e+00,  7.7515e-01],\n",
       "         [ 2.5500e+01, -9.6534e-02],\n",
       "         [ 4.5000e+00, -9.5874e-01],\n",
       "         [ 2.4000e+01, -1.7483e-01],\n",
       "         [ 3.0000e+00,  6.0000e-01],\n",
       "         [ 1.9500e+01,  4.4699e-01],\n",
       "         [ 0.0000e+00,  6.0946e-01],\n",
       "         [ 1.5000e+00,  5.9605e-01],\n",
       "         [ 1.9500e+01, -9.5650e-01],\n",
       "         [ 3.0000e+00,  8.4383e-01],\n",
       "         [ 7.5000e+00, -9.6918e-01],\n",
       "         [ 3.0000e+00,  8.3174e-01],\n",
       "         [ 1.8000e+01, -6.6289e-01],\n",
       "         [ 2.4000e+01, -5.1732e-01],\n",
       "         [ 2.4000e+01, -5.5715e-01],\n",
       "         [ 2.2500e+01,  8.8535e-01],\n",
       "         [ 1.5000e+01, -8.1106e-01],\n",
       "         [ 1.5000e+00,  7.5376e-01],\n",
       "         [ 3.0000e+00, -9.9798e-01],\n",
       "         [ 6.0000e+00,  7.5855e-01],\n",
       "         [ 6.0000e+00, -6.0362e-01],\n",
       "         [ 6.0000e+00, -8.4909e-01],\n",
       "         [ 6.0000e+00, -6.1740e-01],\n",
       "         [ 3.0000e+00, -1.0546e-01],\n",
       "         [ 1.9500e+01,  4.7469e-01],\n",
       "         [ 2.5500e+01,  4.1916e-05],\n",
       "         [ 1.0500e+01, -7.0860e-01],\n",
       "         [ 0.0000e+00,  8.0473e-01],\n",
       "         [ 2.7000e+01, -8.2425e-01],\n",
       "         [ 6.0000e+00, -3.1992e-01],\n",
       "         [ 2.2500e+01,  6.3061e-01],\n",
       "         [ 6.0000e+00,  6.0362e-01],\n",
       "         [ 3.0000e+00, -3.1285e-01],\n",
       "         [ 1.0500e+01,  8.9936e-01],\n",
       "         [ 0.0000e+00,  4.5244e-01],\n",
       "         [ 2.5500e+01,  8.2722e-01],\n",
       "         [ 1.9500e+01, -3.8118e-01],\n",
       "         [ 2.7000e+01, -9.5406e-01],\n",
       "         [ 0.0000e+00,  7.1213e-01],\n",
       "         [ 1.9500e+01,  1.9211e-01],\n",
       "         [ 2.5500e+01,  8.4709e-01],\n",
       "         [ 4.5000e+00,  6.9725e-01],\n",
       "         [ 0.0000e+00, -3.4143e-01],\n",
       "         [ 1.5000e+01,  4.9615e-01],\n",
       "         [ 4.5000e+00,  8.7533e-01],\n",
       "         [ 1.8000e+01, -8.9030e-01],\n",
       "         [ 1.9500e+01,  3.5068e-01],\n",
       "         [ 2.4000e+01, -4.0210e-01],\n",
       "         [ 1.5000e+00, -3.0429e-01],\n",
       "         [ 9.0000e+00,  2.7293e-01],\n",
       "         [ 7.5000e+00, -6.8865e-01],\n",
       "         [ 2.7000e+01,  9.2930e-01],\n",
       "         [ 2.4000e+01,  3.1551e-01],\n",
       "         [ 9.0000e+00,  6.0872e-01],\n",
       "         [ 6.0000e+00, -6.6197e-01],\n",
       "         [ 1.5000e+01, -6.6153e-01],\n",
       "         [ 1.9500e+01,  2.1546e-01],\n",
       "         [ 1.5000e+01, -9.0168e-01],\n",
       "         [ 2.5500e+01,  2.1130e-01],\n",
       "         [ 2.2500e+01,  3.1611e-01],\n",
       "         [ 2.5500e+01, -9.4962e-01],\n",
       "         [ 2.4000e+01, -9.5888e-01],\n",
       "         [ 1.8000e+01, -4.2858e-01],\n",
       "         [ 1.8000e+01, -1.3699e-01],\n",
       "         [ 6.0000e+00,  7.4447e-01],\n",
       "         [ 1.9500e+01,  9.9919e-01],\n",
       "         [ 1.8000e+01,  1.3719e-01],\n",
       "         [ 0.0000e+00, -1.7765e-01],\n",
       "         [ 2.7000e+01,  3.0557e-02],\n",
       "         [ 6.0000e+00, -3.6821e-01],\n",
       "         [ 6.0000e+00,  2.3340e-01],\n",
       "         [ 1.8000e+01, -3.1202e-01],\n",
       "         [ 1.5000e+00, -5.0192e-01],\n",
       "         [ 2.4000e+01, -1.4297e-01],\n",
       "         [ 6.0000e+00, -9.7586e-01],\n",
       "         [ 1.9500e+01,  8.0403e-01],\n",
       "         [ 2.4000e+01,  7.3517e-01],\n",
       "         [ 1.9500e+01,  8.2639e-01],\n",
       "         [ 9.0000e+00,  4.3828e-01],\n",
       "         [ 2.5500e+01, -2.0733e-01],\n",
       "         [ 9.0000e+00, -8.6863e-01],\n",
       "         [ 1.5000e+00,  8.7952e-01],\n",
       "         [ 1.8000e+01,  8.9923e-01],\n",
       "         [ 9.0000e+00, -9.6829e-01],\n",
       "         [ 4.5000e+00, -2.8009e-01],\n",
       "         [ 1.5000e+00,  6.7989e-01],\n",
       "         [ 1.0500e+01, -8.1610e-01],\n",
       "         [ 2.7000e+01,  1.1444e-01],\n",
       "         [ 3.0000e+00,  9.1436e-01],\n",
       "         [ 2.4000e+01,  1.2346e-02],\n",
       "         [ 2.2500e+01,  9.1703e-01],\n",
       "         [ 1.8000e+01,  1.6350e-01],\n",
       "         [ 2.5500e+01,  1.9118e-01],\n",
       "         [ 2.5500e+01,  2.6198e-02],\n",
       "         [ 6.0000e+00,  1.7706e-01],\n",
       "         [ 0.0000e+00,  7.6447e-01],\n",
       "         [ 2.4000e+01,  8.8451e-01],\n",
       "         [ 4.5000e+00,  2.2585e-01],\n",
       "         [ 2.4000e+01, -4.6356e-01],\n",
       "         [ 1.8000e+01, -6.4185e-01],\n",
       "         [ 4.5000e+00, -7.5504e-01],\n",
       "         [ 9.0000e+00,  5.7758e-01],\n",
       "         [ 2.4000e+01,  3.0108e-01],\n",
       "         [ 0.0000e+00, -2.3956e-01],\n",
       "         [ 1.0500e+01,  5.7124e-01],\n",
       "         [ 3.0000e+00, -2.6398e-01],\n",
       "         [ 1.0500e+01,  6.7521e-01],\n",
       "         [ 2.4000e+01,  5.3405e-01],\n",
       "         [ 1.5000e+00,  4.4632e-01],\n",
       "         [ 3.0000e+00, -5.5668e-01],\n",
       "         [ 1.5000e+01,  2.1069e-01],\n",
       "         [ 7.5000e+00, -2.6839e-02],\n",
       "         [ 2.7000e+01, -6.7129e-01],\n",
       "         [ 2.7000e+01, -9.0014e-01],\n",
       "         [ 2.7000e+01, -2.7169e-01],\n",
       "         [ 1.5000e+01, -7.2497e-02],\n",
       "         [ 6.0000e+00, -1.8612e-02],\n",
       "         [ 6.0000e+00, -4.0151e-01],\n",
       "         [ 3.0000e+00, -7.9244e-01],\n",
       "         [ 3.0000e+00, -6.8161e-01],\n",
       "         [ 9.0000e+00,  6.8063e-01],\n",
       "         [ 1.9500e+01,  5.9870e-01],\n",
       "         [ 4.5000e+00,  7.0741e-01],\n",
       "         [ 2.5500e+01,  4.3262e-01],\n",
       "         [ 1.5000e+00, -8.3346e-03],\n",
       "         [ 2.4000e+01, -9.6548e-01],\n",
       "         [ 2.7000e+01,  8.6099e-01],\n",
       "         [ 1.5000e+01, -7.9520e-01],\n",
       "         [ 2.7000e+01, -1.0925e-01],\n",
       "         [ 0.0000e+00,  3.5179e-01],\n",
       "         [ 2.7000e+01, -6.1454e-01],\n",
       "         [ 4.5000e+00,  1.4864e-01],\n",
       "         [ 2.4000e+01,  8.1481e-01],\n",
       "         [ 2.5500e+01,  8.7073e-01],\n",
       "         [ 1.5000e+00, -4.2157e-01],\n",
       "         [ 2.2500e+01, -5.8534e-01],\n",
       "         [ 2.2500e+01, -3.8101e-01],\n",
       "         [ 2.4000e+01,  8.5265e-01],\n",
       "         [ 1.0500e+01, -8.2983e-01],\n",
       "         [ 7.5000e+00,  9.8708e-01],\n",
       "         [ 1.8000e+01,  1.7564e-01],\n",
       "         [ 1.5000e+01,  3.0585e-01],\n",
       "         [ 9.0000e+00, -8.3918e-01],\n",
       "         [ 6.0000e+00, -4.5070e-01],\n",
       "         [ 2.4000e+01, -8.5185e-01],\n",
       "         [ 1.5000e+00, -4.0275e-02],\n",
       "         [ 9.0000e+00, -7.2367e-01],\n",
       "         [ 1.0500e+01,  6.4318e-01],\n",
       "         [ 1.0500e+01,  9.7484e-01],\n",
       "         [ 6.0000e+00,  9.9195e-01],\n",
       "         [ 1.5000e+01,  8.4560e-01],\n",
       "         [ 1.5000e+01, -3.5569e-01],\n",
       "         [ 1.5000e+01,  5.4259e-01],\n",
       "         [ 2.2500e+01, -1.7067e-01],\n",
       "         [ 2.5500e+01, -2.9089e-01],\n",
       "         [ 1.5000e+00,  1.3290e-01],\n",
       "         [ 0.0000e+00,  9.0539e-01],\n",
       "         [ 2.4000e+01, -7.6424e-01],\n",
       "         [ 0.0000e+00,  4.2828e-01],\n",
       "         [ 1.5000e+00,  5.6161e-01],\n",
       "         [ 7.5000e+00, -6.3320e-01],\n",
       "         [ 4.5000e+00, -5.6252e-01],\n",
       "         [ 3.0000e+00, -9.1940e-01],\n",
       "         [ 2.5500e+01,  4.1250e-01],\n",
       "         [ 1.5000e+01,  4.2139e-01],\n",
       "         [ 2.5500e+01,  6.7808e-01],\n",
       "         [ 2.7000e+01, -2.0511e-01],\n",
       "         [ 6.0000e+00, -8.7324e-01],\n",
       "         [ 9.0000e+00, -4.3658e-01],\n",
       "         [ 2.2500e+01,  9.9500e-01],\n",
       "         [ 0.0000e+00, -8.5808e-01],\n",
       "         [ 1.9500e+01, -9.7013e-01],\n",
       "         [ 1.0500e+01, -3.4721e-01],\n",
       "         [ 2.7000e+01, -8.6619e-01],\n",
       "         [ 2.2500e+01,  5.7652e-01],\n",
       "         [ 2.2500e+01,  6.8749e-01],\n",
       "         [ 4.5000e+00, -9.6484e-01],\n",
       "         [ 2.7000e+01,  9.0084e-01],\n",
       "         [ 2.5500e+01, -5.1628e-01],\n",
       "         [ 2.5500e+01, -9.9992e-01],\n",
       "         [ 1.9500e+01,  4.5944e-01],\n",
       "         [ 2.4000e+01, -8.0207e-01],\n",
       "         [ 1.5000e+01, -7.2950e-01],\n",
       "         [ 2.2500e+01,  9.7917e-01],\n",
       "         [ 1.9500e+01, -8.1419e-01],\n",
       "         [ 1.9500e+01, -3.3805e-01],\n",
       "         [ 2.5500e+01, -3.9934e-01],\n",
       "         [ 1.5000e+01, -8.5637e-01],\n",
       "         [ 1.9500e+01, -9.2803e-01],\n",
       "         [ 2.5500e+01, -1.6494e-01],\n",
       "         [ 1.8000e+01, -9.3727e-01],\n",
       "         [ 1.0500e+01,  7.4840e-01],\n",
       "         [ 0.0000e+00,  7.2622e-01],\n",
       "         [ 3.0000e+00,  3.3753e-02],\n",
       "         [ 1.5000e+01, -8.7902e-01],\n",
       "         [ 2.4000e+01,  8.3274e-01],\n",
       "         [ 9.0000e+00, -1.6874e-01],\n",
       "         [ 2.7000e+01,  7.3269e-01],\n",
       "         [ 7.5000e+00, -8.2803e-01],\n",
       "         [ 0.0000e+00,  6.6784e-01],\n",
       "         [ 2.2500e+01, -7.5761e-01],\n",
       "         [ 2.4000e+01,  3.7036e-01],\n",
       "         [ 6.0000e+00, -5.2314e-02],\n",
       "         [ 1.5000e+01, -8.2012e-01],\n",
       "         [ 2.5500e+01, -8.7115e-01],\n",
       "         [ 2.5500e+01,  9.8826e-01],\n",
       "         [ 1.0500e+01,  4.7520e-01],\n",
       "         [ 6.0000e+00,  3.3702e-02],\n",
       "         [ 2.7000e+01,  5.2886e-01],\n",
       "         [ 2.7000e+01, -6.5324e-01],\n",
       "         [ 2.4000e+01,  2.6001e-01],\n",
       "         [ 1.9500e+01, -6.7392e-01],\n",
       "         [ 2.5500e+01,  7.7063e-01],\n",
       "         [ 2.4000e+01,  4.0960e-01],\n",
       "         [ 1.9500e+01,  8.3859e-01],\n",
       "         [ 7.5000e+00,  1.4414e-01],\n",
       "         [ 9.0000e+00, -2.7860e-01],\n",
       "         [ 2.4000e+01, -2.0868e-01],\n",
       "         [ 4.5000e+00, -5.8894e-01],\n",
       "         [ 4.5000e+00,  1.0000e+00],\n",
       "         [ 6.0000e+00,  9.9799e-01],\n",
       "         [ 2.2500e+01,  7.9938e-01],\n",
       "         [ 2.4000e+01,  6.3139e-01],\n",
       "         [ 9.0000e+00,  9.8641e-01],\n",
       "         [ 2.4000e+01, -2.8634e-01],\n",
       "         [ 9.0000e+00,  1.3024e-01],\n",
       "         [ 2.2500e+01,  7.1715e-02],\n",
       "         [ 1.0500e+01,  1.4456e-01],\n",
       "         [ 3.0000e+00,  3.4358e-01],\n",
       "         [ 2.4000e+01,  9.9519e-01],\n",
       "         [ 4.5000e+00, -8.1448e-01],\n",
       "         [ 1.0500e+01,  1.0000e+00],\n",
       "         [ 1.8000e+01,  2.7276e-01],\n",
       "         [ 0.0000e+00, -2.6640e-01],\n",
       "         [ 3.0000e+00,  2.4534e-01],\n",
       "         [ 1.8000e+01,  9.9717e-01],\n",
       "         [ 2.7000e+01, -6.4450e-01],\n",
       "         [ 4.5000e+00, -6.5193e-01],\n",
       "         [ 2.5500e+01,  6.9015e-01],\n",
       "         [ 2.5500e+01, -9.5565e-01],\n",
       "         [ 1.0500e+01,  3.3211e-01],\n",
       "         [ 4.5000e+00, -8.8356e-01],\n",
       "         [ 9.0000e+00,  5.6370e-01],\n",
       "         [ 2.2500e+01,  5.5499e-01],\n",
       "         [ 4.5000e+00, -7.0272e-01],\n",
       "         [ 2.5500e+01,  8.1953e-01],\n",
       "         [ 3.0000e+00,  4.9118e-01],\n",
       "         [ 4.5000e+00, -3.9591e-01],\n",
       "         [ 2.2500e+01,  1.0000e+00],\n",
       "         [ 0.0000e+00, -7.3327e-01],\n",
       "         [ 4.5000e+00,  2.5226e-01],\n",
       "         [ 1.5000e+00, -2.5638e-01],\n",
       "         [ 0.0000e+00, -4.2325e-01],\n",
       "         [ 1.5000e+00, -6.8159e-01],\n",
       "         [ 1.9500e+01, -4.5233e-01],\n",
       "         [ 9.0000e+00, -5.6285e-01],\n",
       "         [ 1.0500e+01,  9.2452e-01],\n",
       "         [ 1.0500e+01, -9.5334e-01],\n",
       "         [ 1.5000e+01,  9.5269e-01],\n",
       "         [ 1.5000e+01, -5.2787e-01],\n",
       "         [ 6.0000e+00, -4.1650e-01],\n",
       "         [ 0.0000e+00, -1.3337e-01],\n",
       "         [ 1.8000e+01,  1.1696e-01],\n",
       "         [ 2.5500e+01,  9.6982e-01],\n",
       "         [ 2.2500e+01,  2.9647e-02],\n",
       "         [ 6.0000e+00, -1.8310e-01],\n",
       "         [ 6.0000e+00, -9.6378e-01],\n",
       "         [ 7.5000e+00,  7.5646e-01],\n",
       "         [ 7.5000e+00,  5.4175e-01],\n",
       "         [ 1.5000e+01, -8.9488e-01],\n",
       "         [ 2.4000e+01, -8.6977e-01],\n",
       "         [ 9.0000e+00, -4.0091e-01],\n",
       "         [ 1.5000e+01,  2.6053e-01],\n",
       "         [ 2.7000e+01, -5.9457e-01],\n",
       "         [ 1.5000e+00,  8.3760e-01],\n",
       "         [ 2.5500e+01,  5.7748e-01],\n",
       "         [ 2.2500e+01, -5.5529e-01],\n",
       "         [ 2.7000e+01,  2.2828e-01],\n",
       "         [ 4.5000e+00,  1.0000e+00],\n",
       "         [ 1.5000e+01,  5.1201e-01],\n",
       "         [ 0.0000e+00, -7.6145e-01],\n",
       "         [ 7.5000e+00,  4.3042e-01],\n",
       "         [ 1.0500e+01,  9.9543e-01],\n",
       "         [ 1.5000e+01,  5.9130e-01],\n",
       "         [ 4.5000e+00,  9.9390e-01],\n",
       "         [ 2.7000e+01, -7.1839e-01],\n",
       "         [ 2.7000e+01,  7.2359e-01],\n",
       "         [ 1.8000e+01,  7.2805e-01],\n",
       "         [ 2.5500e+01,  9.3169e-01],\n",
       "         [ 7.5000e+00, -3.5686e-01],\n",
       "         [ 6.0000e+00,  7.2435e-01],\n",
       "         [ 1.8000e+01,  8.7576e-01],\n",
       "         [ 2.4000e+01,  8.4269e-01],\n",
       "         [ 2.4000e+01,  5.8234e-01],\n",
       "         [ 1.8000e+01,  6.9567e-01],\n",
       "         [ 3.0000e+00,  7.0076e-01],\n",
       "         [ 1.5000e+00,  9.9531e-01],\n",
       "         [ 1.0500e+01,  7.5938e-02],\n",
       "         [ 2.2500e+01,  6.0256e-01],\n",
       "         [ 7.5000e+00,  4.0855e-01],\n",
       "         [ 2.7000e+01, -8.4222e-01],\n",
       "         [ 2.4000e+01, -6.1539e-01],\n",
       "         [ 0.0000e+00, -7.0106e-01],\n",
       "         [ 2.4000e+01,  5.8980e-01],\n",
       "         [ 0.0000e+00, -3.4222e-02],\n",
       "         [ 3.0000e+00,  5.8992e-01],\n",
       "         [ 1.0500e+01, -1.4364e-01],\n",
       "         [ 0.0000e+00, -6.2657e-01],\n",
       "         [ 2.4000e+01,  9.7411e-01],\n",
       "         [ 6.0000e+00, -2.4950e-01],\n",
       "         [ 1.9500e+01,  9.4430e-01],\n",
       "         [ 1.8000e+01, -8.3458e-01],\n",
       "         [ 7.5000e+00,  7.1869e-01],\n",
       "         [ 4.5000e+00,  9.6749e-01],\n",
       "         [ 1.5000e+00, -8.1135e-01],\n",
       "         [ 1.5000e+00, -1.8251e-01],\n",
       "         [ 7.5000e+00,  9.9304e-01],\n",
       "         [ 9.0000e+00, -1.5289e-01],\n",
       "         [ 4.5000e+00, -8.4089e-01],\n",
       "         [ 1.8000e+01,  9.3495e-01],\n",
       "         [ 3.0000e+00, -5.7683e-01],\n",
       "         [ 2.2500e+01, -3.5296e-01],\n",
       "         [ 4.5000e+00,  1.0000e+00],\n",
       "         [ 2.7000e+01,  8.3343e-01],\n",
       "         [ 1.5000e+00, -3.5569e-01],\n",
       "         [ 1.9500e+01,  2.9782e-01],\n",
       "         [ 1.5000e+01, -6.1037e-01],\n",
       "         [ 2.5500e+01,  6.1370e-01],\n",
       "         [ 7.5000e+00, -6.6700e-01],\n",
       "         [ 1.9500e+01, -5.3689e-01],\n",
       "         [ 1.8000e+01, -7.8956e-01],\n",
       "         [ 2.2500e+01, -9.2188e-01],\n",
       "         [ 1.5000e+00,  8.8985e-02],\n",
       "         [ 6.0000e+00, -5.1308e-01],\n",
       "         [ 2.7000e+01,  6.5688e-01],\n",
       "         [ 3.0000e+00,  2.7154e-01]]),\n",
       " 'train_label': tensor([-0.1474, -0.9821, -0.9502,  ..., -0.7058, -0.9234, -0.9115]),\n",
       " 'test_label': tensor([-0.4271, -0.4598, -0.4269, -0.7332, -0.6151, -0.9649, -0.5403, -0.5881,\n",
       "         -0.9268, -0.3071, -0.7694, -0.6037, -0.6409, -0.6758, -0.9948, -0.9641,\n",
       "         -0.9917, -0.8295, -0.0907, -0.7463, -0.6433, -0.1905, -0.9837, -0.9930,\n",
       "         -0.9742, -0.1830, -0.6276, -0.5377, -0.9917, -0.4716, -0.8271, -0.9493,\n",
       "         -0.4909, -0.9361, -0.3489, -0.7918, -0.9693, -0.5152, -0.6550, -0.9930,\n",
       "         -0.6015, -0.8218, -0.8109, -0.9800, -0.9608, -0.9922, -0.5559, -0.9901,\n",
       "         -0.9982, -0.9795, -0.8922, -0.8209, -0.4715, -0.8048, -0.4244, -0.8483,\n",
       "         -1.0000, -0.0924, -0.8392, -0.6141, -0.1892, -0.3990, -0.0991, -0.3722,\n",
       "         -0.5564, -0.7331, -0.0582, -0.8952, -0.8029, -0.2122, -0.9855, -0.6037,\n",
       "         -0.4706, -0.9759, -0.2727, -0.9992, -0.8272, -0.9469, -0.9944, -0.2933,\n",
       "         -0.9330, -0.6546, -0.8451, -0.8354, -0.7944, -0.3364, -0.9207, -0.7385,\n",
       "         -0.4158, -0.5877, -0.9966, -0.1557, -0.9720, -0.8501, -0.8331, -0.8606,\n",
       "         -0.8530, -0.0897, -0.4159, -0.0671, -0.4468, -0.5981, -0.7405, -0.7053,\n",
       "         -0.2491, -0.4253, -0.5548, -0.0328, -0.6181, -0.6624, -0.3394, -0.6481,\n",
       "         -0.9906, -0.8096, -0.9751, -0.5783, -0.4906, -0.3439, -0.8998, -0.6150,\n",
       "         -0.8684, -0.9213, -0.3808, -0.9715, -0.3227, -0.8443, -0.0993, -0.6511,\n",
       "         -0.9502, -0.2879, -0.6868, -0.8760, -0.8633, -0.4107, -0.2232, -0.8868,\n",
       "         -0.8403, -0.9144, -0.9944, -0.5665, -0.1429, -0.8849, -0.8315, -0.5915,\n",
       "         -0.6218, -0.9378, -0.2516, -0.9113, -0.8793, -0.1227, -0.0835, -0.8318,\n",
       "         -0.9968, -0.6437, -0.0088, -0.9902, -0.9765, -0.9711, -0.8688, -0.9940,\n",
       "         -0.9106, -0.7391, -0.9884, -0.0870, -0.4119, -0.4804, -0.3552, -0.9597,\n",
       "         -0.9455, -0.3554, -0.3594, -0.2626, -0.1042, -0.9560, -0.6616, -0.4306,\n",
       "         -0.9477, -0.3192, -0.9819, -0.1908, -0.9846, -0.9182, -0.9687, -0.9935,\n",
       "         -0.5688, -0.2381, -0.9963, -0.7883, -0.6235, -0.4982, -0.8645, -0.8920,\n",
       "         -0.9488, -0.8548, -0.9601, -0.7208, -0.7401, -0.9795, -0.7151, -0.9948,\n",
       "         -0.9742, -0.5621, -0.2041, -0.9035, -0.9999, -0.9919, -0.8479, -0.4488,\n",
       "         -0.5843, -0.7088, -0.6811, -0.6685, -0.7982, -0.9939, -0.0760, -0.2635,\n",
       "         -0.4394, -0.9892, -0.9923, -0.6384, -0.9927, -0.3592, -0.2333, -0.8122,\n",
       "         -0.6789, -0.8565, -0.2962, -0.4113, -0.1702, -0.9818, -0.9726, -0.4048,\n",
       "         -0.8021, -0.2997, -0.9924, -0.5824, -0.7563, -0.2241, -0.1929, -0.4045,\n",
       "         -0.9072, -0.8371, -0.9732, -0.8925, -0.9957, -0.3288, -0.4421, -0.9801,\n",
       "         -0.8910, -0.6495, -0.7310, -0.2207, -0.8100, -0.9036, -0.5298, -0.9378,\n",
       "         -0.3062, -0.8690, -0.0388, -0.2795, -0.0679, -0.9059, -0.2732, -0.6895,\n",
       "         -0.5404, -0.1357, -0.1912, -0.7300, -0.0108, -0.8236, -0.3876, -0.5130,\n",
       "         -0.0738, -0.3682, -0.8746, -0.8276, -0.3377, -0.1637, -0.9688, -0.1334,\n",
       "         -0.6193, -0.6263, -0.9852, -0.2974, -0.3295, -0.9908, -0.4619, -0.3952,\n",
       "         -0.7495, -0.4553, -0.8575, -0.9865, -0.4078, -0.2616, -0.0351, -0.9206,\n",
       "         -0.9925, -0.7271, -0.5845, -0.9102, -0.5736, -0.4168, -0.8336, -0.3412,\n",
       "         -0.9743, -0.9628, -0.9565, -0.6958, -0.0147, -0.0329, -0.3952, -0.6134,\n",
       "         -0.1738, -0.9076, -0.9889, -0.9573, -0.9912, -0.9888, -0.0226, -0.4286,\n",
       "         -0.0107, -0.9444, -0.9352, -0.9997, -0.0529, -0.5991, -0.6271, -0.5177,\n",
       "         -0.1046, -0.9756, -0.3078, -0.8732, -0.7213, -0.5473, -0.3305, -0.9395,\n",
       "         -0.8626, -0.0206, -0.4485, -0.9982, -0.9433, -0.8024, -0.5438, -0.7934,\n",
       "         -0.7728, -0.3419, -0.1354, -0.2230, -0.7580, -0.8300, -0.9819, -0.9936,\n",
       "         -0.0684, -0.9715, -0.9800, -0.1055, -0.6151, -0.9021, -0.2675, -0.2703,\n",
       "         -0.8921, -0.9854, -0.6546, -0.4282, -0.6674, -0.7059, -0.9060, -0.0440,\n",
       "         -0.8489, -0.4173, -0.9674, -0.1228, -0.7722, -0.1612, -0.5136, -0.4757,\n",
       "         -0.5274, -0.1357, -0.8883, -0.6855, -0.3044, -0.3164, -0.6871, -0.5644,\n",
       "         -0.6567,  0.0000, -0.9876, -0.6506, -0.9725, -0.3075, -0.6529, -0.4820,\n",
       "         -0.6722, -0.9889, -0.8684, -0.9930, -0.6017, -0.0741, -0.9604, -0.1688,\n",
       "         -0.3451, -0.6684, -0.2360, -0.3668, -0.9795, -0.1358, -0.9925, -0.3883,\n",
       "         -0.2066, -0.7002, -0.8649, -0.1117, -0.3055, -0.8753, -0.9010, -0.6798,\n",
       "         -0.6098, -0.6048, -0.7181, -0.4195, -0.1573, -0.9975, -0.7616, -0.5630,\n",
       "         -1.0000])}"
      ]
     },
     "execution_count": 9,
     "metadata": {},
     "output_type": "execute_result"
    }
   ],
   "execution_count": 9
  },
  {
   "metadata": {},
   "cell_type": "markdown",
   "source": "# KAN",
   "id": "8a1e7e8f0e8ce890"
  },
  {
   "cell_type": "code",
   "id": "initial_id",
   "metadata": {
    "collapsed": true,
    "ExecuteTime": {
     "end_time": "2024-06-14T22:09:57.546669Z",
     "start_time": "2024-06-14T22:09:57.530327Z"
    }
   },
   "source": [
    "# create a KAN: 2D inputs, 1D output, and 5 hidden neurons. cubic spline (k=3), 5 grid intervals (grid=5).\n",
    "model = kan.KAN(width=[2,3,1], grid=3, k=3, seed=0)"
   ],
   "outputs": [],
   "execution_count": 10
  },
  {
   "metadata": {
    "ExecuteTime": {
     "end_time": "2024-06-14T22:10:18.314394Z",
     "start_time": "2024-06-14T22:09:57.547599Z"
    }
   },
   "cell_type": "code",
   "source": [
    "# train the model\n",
    "model.train(dataset, opt=\"LBFGS\", steps=20, lamb=0.01, lamb_entropy=10.);"
   ],
   "id": "1970da94c3a7fd4c",
   "outputs": [
    {
     "name": "stderr",
     "output_type": "stream",
     "text": [
      "train loss: 3.24e-01 | test loss: 3.14e-01 | reg: 1.14e+01 : 100%|██| 20/20 [00:20<00:00,  1.04s/it]\n"
     ]
    }
   ],
   "execution_count": 11
  },
  {
   "metadata": {
    "ExecuteTime": {
     "end_time": "2024-06-14T22:10:19.250665Z",
     "start_time": "2024-06-14T22:10:18.315916Z"
    }
   },
   "cell_type": "code",
   "source": [
    "model = model.prune()\n",
    "model(dataset['train_input'])\n",
    "model.plot()"
   ],
   "id": "759dd18156304866",
   "outputs": [
    {
     "data": {
      "text/plain": [
       "<Figure size 500x400 with 4 Axes>"
      ],
      "image/png": "[encoded data removed]"
     },
     "metadata": {},
     "output_type": "display_data"
    }
   ],
   "execution_count": 12
  },
  {
   "metadata": {
    "ExecuteTime": {
     "end_time": "2024-06-14T22:10:34.296997Z",
     "start_time": "2024-06-14T22:10:19.253417Z"
    }
   },
   "cell_type": "code",
   "source": "model.suggest_symbolic(0,0,0)",
   "id": "7bf09ac67f3ed946",
   "outputs": [
    {
     "name": "stdout",
     "output_type": "stream",
     "text": [
      "function , r2\n",
      "cosh , 0.8474751114845276\n",
      "tan , 0.8396831154823303\n",
      "sin , 0.7085259556770325\n",
      "x^4 , 0.6843776106834412\n",
      "tanh , 0.5063223838806152\n"
     ]
    },
    {
     "data": {
      "text/plain": [
       "('cosh',\n",
       " (<function kan.utils.<lambda>(x)>, <function kan.utils.<lambda>(x)>),\n",
       " 0.8474751114845276)"
      ]
     },
     "execution_count": 13,
     "metadata": {},
     "output_type": "execute_result"
    }
   ],
   "execution_count": 13
  },
  {
   "metadata": {
    "ExecuteTime": {
     "end_time": "2024-06-14T22:10:46.794275Z",
     "start_time": "2024-06-14T22:10:34.298606Z"
    }
   },
   "cell_type": "code",
   "source": "model.suggest_symbolic(0,1,0)",
   "id": "dcd329a88ef315e3",
   "outputs": [
    {
     "name": "stdout",
     "output_type": "stream",
     "text": [
      "function , r2\n",
      "gaussian , 0.9999065399169922\n",
      "sin , 0.9998895525932312\n",
      "tanh , 0.9993617534637451\n",
      "sigmoid , 0.9993590116500854\n",
      "arctan , 0.9987803101539612\n"
     ]
    },
    {
     "data": {
      "text/plain": [
       "('gaussian',\n",
       " (<function kan.utils.<lambda>(x)>, <function kan.utils.<lambda>(x)>),\n",
       " 0.9999065399169922)"
      ]
     },
     "execution_count": 14,
     "metadata": {},
     "output_type": "execute_result"
    }
   ],
   "execution_count": 14
  },
  {
   "metadata": {
    "ExecuteTime": {
     "end_time": "2024-06-14T22:10:56.848191Z",
     "start_time": "2024-06-14T22:10:46.795993Z"
    }
   },
   "cell_type": "code",
   "source": "model.suggest_symbolic(1,0,0)",
   "id": "6cd2365d303b1cf9",
   "outputs": [
    {
     "name": "stdout",
     "output_type": "stream",
     "text": [
      "function , r2\n",
      "sin , 0.9999571442604065\n",
      "gaussian , 0.999936044216156\n",
      "tanh , 0.9999343752861023\n",
      "sigmoid , 0.999934196472168\n",
      "arctan , 0.9999157786369324\n"
     ]
    },
    {
     "data": {
      "text/plain": [
       "('sin',\n",
       " (<function kan.utils.<lambda>(x)>, <function kan.utils.<lambda>(x)>),\n",
       " 0.9999571442604065)"
      ]
     },
     "execution_count": 15,
     "metadata": {},
     "output_type": "execute_result"
    }
   ],
   "execution_count": 15
  },
  {
   "metadata": {
    "ExecuteTime": {
     "end_time": "2024-06-14T21:41:49.719527Z",
     "start_time": "2024-06-14T21:41:37.799382Z"
    }
   },
   "cell_type": "code",
   "source": "model.suggest_symbolic(1,0,0,topk=15)",
   "id": "3597296a01fada1a",
   "outputs": [
    {
     "name": "stdout",
     "output_type": "stream",
     "text": [
      "function , r2\n",
      "x^4 , 0.9999998807907104\n",
      "cosh , 0.9999992847442627\n",
      "tanh , 0.9999988675117493\n",
      "x^3 , 0.9999987483024597\n",
      "arctan , 0.9999983310699463\n",
      "sigmoid , 0.9999963641166687\n",
      "gaussian , 0.9999955296516418\n",
      "exp , 0.9999892711639404\n",
      "1/x^4 , 0.9999702572822571\n",
      "x^2 , 0.9999681115150452\n",
      "1/x^3 , 0.9999624490737915\n",
      "1/x^2 , 0.9999590516090393\n",
      "sin , 0.9999489188194275\n",
      "tan , 0.9999393224716187\n",
      "1/x , 0.9999390840530396\n"
     ]
    },
    {
     "data": {
      "text/plain": [
       "('x^4',\n",
       " (<function kan.utils.<lambda>(x)>, <function kan.utils.<lambda>(x)>),\n",
       " 0.9999998807907104)"
      ]
     },
     "execution_count": 82,
     "metadata": {},
     "output_type": "execute_result"
    }
   ],
   "execution_count": 82
  },
  {
   "metadata": {
    "ExecuteTime": {
     "end_time": "2024-06-14T21:42:06.183804Z",
     "start_time": "2024-06-14T21:42:00.294137Z"
    }
   },
   "cell_type": "code",
   "source": [
    "model.train(dataset, opt=\"LBFGS\", steps=20);\n",
    "model.plot()"
   ],
   "id": "b2e5d28c671a3412",
   "outputs": [
    {
     "name": "stderr",
     "output_type": "stream",
     "text": [
      "train loss: 3.13e-01 | test loss: 3.04e-01 | reg: 7.11e-01 : 100%|██| 20/20 [00:04<00:00,  4.02it/s]\n"
     ]
    },
    {
     "data": {
      "text/plain": [
       "<Figure size 500x400 with 4 Axes>"
      ],
      "image/png": "[encoded data removed]"
     },
     "metadata": {},
     "output_type": "display_data"
    }
   ],
   "execution_count": 83
  },
  {
   "metadata": {
    "ExecuteTime": {
     "end_time": "2024-06-14T21:42:18.951701Z",
     "start_time": "2024-06-14T21:42:10.408147Z"
    }
   },
   "cell_type": "code",
   "source": [
    "model.suggest_symbolic(0,0,0)\n",
    "model.suggest_symbolic(0,1,0)\n",
    "model.suggest_symbolic(1,0,0)"
   ],
   "id": "c27796dc70b69ab0",
   "outputs": [
    {
     "name": "stdout",
     "output_type": "stream",
     "text": [
      "function , r2\n",
      "sin , 0.9916107058525085\n",
      "tanh , 0.9857191443443298\n",
      "sigmoid , 0.9854857921600342\n",
      "gaussian , 0.9845893979072571\n",
      "arctan , 0.9825063347816467\n",
      "function , r2\n",
      "gaussian , 0.9996997714042664\n",
      "sin , 0.9996587634086609\n",
      "tanh , 0.9990261197090149\n",
      "sigmoid , 0.9990260601043701\n",
      "arctan , 0.9984593987464905\n",
      "function , r2\n",
      "1/x^4 , 0.45161762833595276\n",
      "1/x^3 , 0.437497615814209\n",
      "1/x^2 , 0.4084552526473999\n",
      "tan , 0.32613614201545715\n",
      "1/x , 0.32365456223487854\n"
     ]
    },
    {
     "data": {
      "text/plain": [
       "('1/x^4',\n",
       " (<function kan.utils.<lambda>(x)>, <function kan.utils.<lambda>(x)>),\n",
       " 0.45161762833595276)"
      ]
     },
     "execution_count": 84,
     "metadata": {},
     "output_type": "execute_result"
    }
   ],
   "execution_count": 84
  },
  {
   "metadata": {},
   "cell_type": "markdown",
   "source": "",
   "id": "5ac0118c27425be8"
  },
  {
   "metadata": {
    "ExecuteTime": {
     "end_time": "2024-06-14T21:42:43.605599Z",
     "start_time": "2024-06-14T21:42:35.247879Z"
    }
   },
   "cell_type": "code",
   "source": "model.auto_symbolic()",
   "id": "7a2fe1d56c330f07",
   "outputs": [
    {
     "name": "stdout",
     "output_type": "stream",
     "text": [
      "fixing (0,0,0) with sin, r2=0.9916107058525085\n",
      "fixing (0,1,0) with gaussian, r2=0.9996997714042664\n",
      "fixing (1,0,0) with 1/x^4, r2=0.45161762833595276\n"
     ]
    }
   ],
   "execution_count": 85
  },
  {
   "metadata": {
    "ExecuteTime": {
     "end_time": "2024-06-14T21:43:05.914954Z",
     "start_time": "2024-06-14T21:43:02.676554Z"
    }
   },
   "cell_type": "code",
   "source": [
    "model.train(dataset, opt=\"LBFGS\", steps=20);\n",
    "model.plot()"
   ],
   "id": "c3d0225f82f5d4af",
   "outputs": [
    {
     "name": "stderr",
     "output_type": "stream",
     "text": [
      "train loss: 3.13e-01 | test loss: 3.04e-01 | reg: 7.21e-01 : 100%|██| 20/20 [00:02<00:00,  9.57it/s]\n"
     ]
    },
    {
     "data": {
      "text/plain": [
       "<Figure size 500x400 with 4 Axes>"
      ],
      "image/png": "[encoded data removed]"
     },
     "metadata": {},
     "output_type": "display_data"
    }
   ],
   "execution_count": 86
  },
  {
   "metadata": {
    "ExecuteTime": {
     "end_time": "2024-06-14T21:43:21.746056Z",
     "start_time": "2024-06-14T21:43:21.510982Z"
    }
   },
   "cell_type": "code",
   "source": [
    "# obtaining symbolic formula\n",
    "formula, variables = model.symbolic_formula()\n",
    "formula[0]"
   ],
   "id": "28d884d4a51d1be6",
   "outputs": [
    {
     "data": {
      "text/plain": [
       "-0.62"
      ],
      "text/latex": "$\\displaystyle -0.62$"
     },
     "execution_count": 87,
     "metadata": {},
     "output_type": "execute_result"
    }
   ],
   "execution_count": 87
  },
  {
   "metadata": {
    "ExecuteTime": {
     "end_time": "2024-06-14T21:43:29.595187Z",
     "start_time": "2024-06-14T21:43:29.503147Z"
    }
   },
   "cell_type": "code",
   "source": [
    "# if you want to rename your variables, you could use the \"var\" argument\n",
    "formula, variables = model.symbolic_formula(var=['\\\\alpha','y'])\n",
    "formula[0]"
   ],
   "id": "8a992e0fe93848bc",
   "outputs": [
    {
     "data": {
      "text/plain": [
       "-0.62"
      ],
      "text/latex": "$\\displaystyle -0.62$"
     },
     "execution_count": 88,
     "metadata": {},
     "output_type": "execute_result"
    }
   ],
   "execution_count": 88
  },
  {
   "metadata": {
    "ExecuteTime": {
     "end_time": "2024-06-14T21:43:39.828180Z",
     "start_time": "2024-06-14T21:43:39.820558Z"
    }
   },
   "cell_type": "code",
   "source": [
    "# one can even postprocess the formula (e.g., taking derivatives)\n",
    "from sympy import *\n",
    "diff(formula[0], variables[0])"
   ],
   "id": "81c58def72a839c",
   "outputs": [
    {
     "data": {
      "text/plain": [
       "0"
      ],
      "text/latex": "$\\displaystyle 0$"
     },
     "execution_count": 89,
     "metadata": {},
     "output_type": "execute_result"
    }
   ],
   "execution_count": 89
  },
  {
   "metadata": {
    "ExecuteTime": {
     "end_time": "2024-06-14T21:44:20.977053Z",
     "start_time": "2024-06-14T21:44:18.088296Z"
    }
   },
   "cell_type": "code",
   "source": [
    "# this loss is stuck at around 1e-3 RMSE, which is good, but not machine precision.\n",
    "model.train(dataset, opt=\"LBFGS\", steps=20);\n",
    "model.plot()"
   ],
   "id": "80b447463be5cb0d",
   "outputs": [
    {
     "name": "stderr",
     "output_type": "stream",
     "text": [
      "train loss: 3.13e-01 | test loss: 3.04e-01 | reg: 7.21e-01 : 100%|██| 20/20 [00:01<00:00, 12.15it/s]\n"
     ]
    },
    {
     "data": {
      "text/plain": [
       "<Figure size 500x400 with 4 Axes>"
      ],
      "image/png": "[encoded data removed]"
     },
     "metadata": {},
     "output_type": "display_data"
    }
   ],
   "execution_count": 90
  },
  {
   "metadata": {
    "ExecuteTime": {
     "end_time": "2024-06-14T21:26:23.967483Z",
     "start_time": "2024-06-14T21:26:23.928221Z"
    }
   },
   "cell_type": "code",
   "source": [
    "# initialize a more fine-grained KAN with G=10\n",
    "model2 = kan.KAN(width=[2,1,1], grid=10, k=3)\n",
    "# initialize model2 from model\n",
    "model2.initialize_from_another_model(model, dataset['train_input']);"
   ],
   "id": "f3a977a286d94a25",
   "outputs": [],
   "execution_count": 42
  },
  {
   "metadata": {
    "ExecuteTime": {
     "end_time": "2024-06-14T21:26:31.720660Z",
     "start_time": "2024-06-14T21:26:26.291204Z"
    }
   },
   "cell_type": "code",
   "source": "model2.train(dataset, opt=\"LBFGS\", steps=20);",
   "id": "86b67299368a811d",
   "outputs": [
    {
     "name": "stderr",
     "output_type": "stream",
     "text": [
      "train loss: 3.13e-01 | test loss: 3.04e-01 | reg: 2.87e-01 : 100%|██| 20/20 [00:05<00:00,  3.69it/s]\n"
     ]
    }
   ],
   "execution_count": 43
  },
  {
   "metadata": {
    "ExecuteTime": {
     "end_time": "2024-06-14T21:47:08.921786Z",
     "start_time": "2024-06-14T21:44:52.614789Z"
    }
   },
   "cell_type": "code",
   "source": [
    "grids = np.array([5,10,20,50,100])\n",
    "\n",
    "train_losses = []\n",
    "test_losses = []\n",
    "steps = 50\n",
    "k = 3\n",
    "\n",
    "for i in range(grids.shape[0]):\n",
    "    if i == 0:\n",
    "        model = kan.KAN(width=[2,5,1], grid=grids[i], k=k)\n",
    "    if i != 0:\n",
    "        model = kan.KAN(width=[2,5,1], grid=grids[i], k=k).initialize_from_another_model(model, dataset['train_input'])\n",
    "    results = model.train(dataset, opt=\"LBFGS\", steps=steps, stop_grid_update_step=30)\n",
    "    train_losses += results['train_loss']\n",
    "    test_losses += results['test_loss']\n",
    "    "
   ],
   "id": "4bb4d602a9e48889",
   "outputs": [
    {
     "name": "stderr",
     "output_type": "stream",
     "text": [
      "train loss: 3.13e-01 | test loss: 3.04e-01 | reg: 1.11e+01 : 100%|██| 50/50 [00:19<00:00,  2.60it/s]\n",
      "train loss: 3.13e-01 | test loss: 3.04e-01 | reg: 1.11e+01 : 100%|██| 50/50 [00:10<00:00,  4.77it/s]\n",
      "train loss: 3.13e-01 | test loss: 3.04e-01 | reg: 1.11e+01 : 100%|██| 50/50 [00:13<00:00,  3.57it/s]\n",
      "train loss: 3.13e-01 | test loss: 3.04e-01 | reg: 1.10e+01 : 100%|██| 50/50 [00:43<00:00,  1.14it/s]\n",
      "train loss: 3.13e-01 | test loss: 3.04e-01 | reg: 1.07e+01 : 100%|██| 50/50 [00:47<00:00,  1.04it/s]\n"
     ]
    }
   ],
   "execution_count": 91
  },
  {
   "metadata": {
    "ExecuteTime": {
     "end_time": "2024-06-14T21:47:28.129484Z",
     "start_time": "2024-06-14T21:47:27.725309Z"
    }
   },
   "cell_type": "code",
   "source": [
    "plt.plot(train_losses)\n",
    "plt.plot(test_losses)\n",
    "plt.legend(['train', 'test'])\n",
    "plt.ylabel('RMSE')\n",
    "plt.xlabel('step')\n",
    "plt.yscale('log')"
   ],
   "id": "be68e11fd4155a9e",
   "outputs": [
    {
     "data": {
      "text/plain": [
       "<Figure size 640x480 with 1 Axes>"
      ],
      "image/png": "[encoded data removed]"
     },
     "metadata": {},
     "output_type": "display_data"
    }
   ],
   "execution_count": 92
  },
  {
   "metadata": {},
   "cell_type": "markdown",
   "source": "## test 3\n",
   "id": "73905ed84728a8d6"
  },
  {
   "metadata": {
    "ExecuteTime": {
     "end_time": "2024-06-14T22:11:13.414319Z",
     "start_time": "2024-06-14T22:10:56.849664Z"
    }
   },
   "cell_type": "code",
   "source": [
    "model = kan.KAN(width=[2,5,1], grid=20, k=3, seed=0)\n",
    "model.train(dataset, opt=\"LBFGS\", steps=20, lamb=0.01, lamb_entropy=10.);"
   ],
   "id": "7e2002bb6c4933d8",
   "outputs": [
    {
     "name": "stderr",
     "output_type": "stream",
     "text": [
      "train loss: 3.15e-01 | test loss: 3.05e-01 | reg: 3.00e+01 : 100%|██| 20/20 [00:16<00:00,  1.21it/s]\n"
     ]
    }
   ],
   "execution_count": 16
  },
  {
   "metadata": {
    "ExecuteTime": {
     "end_time": "2024-06-14T22:11:14.722752Z",
     "start_time": "2024-06-14T22:11:13.415902Z"
    }
   },
   "cell_type": "code",
   "source": [
    "model = model.prune()\n",
    "model(dataset['train_input'])\n",
    "model.plot()"
   ],
   "id": "ec3ea1ecc5703f92",
   "outputs": [
    {
     "data": {
      "text/plain": [
       "<Figure size 500x400 with 7 Axes>"
      ],
      "image/png": "[encoded data removed]"
     },
     "metadata": {},
     "output_type": "display_data"
    }
   ],
   "execution_count": 17
  },
  {
   "metadata": {
    "ExecuteTime": {
     "end_time": "2024-06-14T22:11:38.337521Z",
     "start_time": "2024-06-14T22:11:26.215456Z"
    }
   },
   "cell_type": "code",
   "source": "model.suggest_symbolic(0,0,0)",
   "id": "2e9d316fac87cdd6",
   "outputs": [
    {
     "name": "stdout",
     "output_type": "stream",
     "text": [
      "function , r2\n",
      "abs , 0.9999595880508423\n",
      "tan , 0.9999592304229736\n",
      "sin , 0.9999591708183289\n",
      "cosh , 0.9999591112136841\n",
      "1/x^2 , 0.9999591112136841\n"
     ]
    },
    {
     "data": {
      "text/plain": [
       "('abs',\n",
       " (<function kan.utils.<lambda>(x)>, <function kan.utils.<lambda>(x)>),\n",
       " 0.9999595880508423)"
      ]
     },
     "execution_count": 18,
     "metadata": {},
     "output_type": "execute_result"
    }
   ],
   "execution_count": 18
  },
  {
   "metadata": {
    "ExecuteTime": {
     "end_time": "2024-06-14T22:11:38.344076Z",
     "start_time": "2024-06-14T22:11:38.339621Z"
    }
   },
   "cell_type": "code",
   "source": "kan.SYMBOLIC_LIB.keys()",
   "id": "7c3cc6c3e522e73",
   "outputs": [
    {
     "data": {
      "text/plain": [
       "dict_keys(['x', 'x^2', 'x^3', 'x^4', '1/x', '1/x^2', '1/x^3', '1/x^4', 'sqrt', '1/sqrt(x)', 'exp', 'log', 'abs', 'sin', 'tan', 'tanh', 'sigmoid', 'sgn', 'arcsin', 'arctan', 'arctanh', '0', 'gaussian', 'cosh'])"
      ]
     },
     "execution_count": 19,
     "metadata": {},
     "output_type": "execute_result"
    }
   ],
   "execution_count": 19
  },
  {
   "metadata": {
    "ExecuteTime": {
     "end_time": "2024-06-14T22:11:42.967735Z",
     "start_time": "2024-06-14T22:11:42.965126Z"
    }
   },
   "cell_type": "code",
   "source": [
    "def ml_torch(x):\n",
    "    return torch.tensor(ml(x, 2, 2 + 0.5), dtype=np.float64)"
   ],
   "id": "5e6f0cc952b1061b",
   "outputs": [],
   "execution_count": 20
  },
  {
   "metadata": {
    "ExecuteTime": {
     "end_time": "2024-06-14T22:11:43.466421Z",
     "start_time": "2024-06-14T22:11:43.460642Z"
    }
   },
   "cell_type": "code",
   "source": "kan.add_symbolic('ML', ml_torch)",
   "id": "166780fa5aa7e751",
   "outputs": [],
   "execution_count": 21
  },
  {
   "metadata": {
    "ExecuteTime": {
     "end_time": "2024-06-14T22:22:49.949587Z",
     "start_time": "2024-06-14T22:11:44.159003Z"
    }
   },
   "cell_type": "code",
   "source": "model.suggest_symbolic(0,0,0)",
   "id": "60e39b575ac2323",
   "outputs": [
    {
     "ename": "KeyboardInterrupt",
     "evalue": "",
     "output_type": "error",
     "traceback": [
      "\u001B[0;31m---------------------------------------------------------------------------\u001B[0m",
      "\u001B[0;31mKeyboardInterrupt\u001B[0m                         Traceback (most recent call last)",
      "Cell \u001B[0;32mIn[22], line 1\u001B[0m\n\u001B[0;32m----> 1\u001B[0m \u001B[43mmodel\u001B[49m\u001B[38;5;241;43m.\u001B[39;49m\u001B[43msuggest_symbolic\u001B[49m\u001B[43m(\u001B[49m\u001B[38;5;241;43m0\u001B[39;49m\u001B[43m,\u001B[49m\u001B[38;5;241;43m0\u001B[39;49m\u001B[43m,\u001B[49m\u001B[38;5;241;43m0\u001B[39;49m\u001B[43m)\u001B[49m\n",
      "File \u001B[0;32m~/PycharmProjects/pykan/kan/KAN.py:1088\u001B[0m, in \u001B[0;36mKAN.suggest_symbolic\u001B[0;34m(self, l, i, j, a_range, b_range, lib, topk, verbose)\u001B[0m\n\u001B[1;32m   1085\u001B[0m         symbolic_lib[item] \u001B[38;5;241m=\u001B[39m SYMBOLIC_LIB[item]\n\u001B[1;32m   1087\u001B[0m \u001B[38;5;28;01mfor\u001B[39;00m (name, fun) \u001B[38;5;129;01min\u001B[39;00m symbolic_lib\u001B[38;5;241m.\u001B[39mitems():\n\u001B[0;32m-> 1088\u001B[0m     r2 \u001B[38;5;241m=\u001B[39m \u001B[38;5;28;43mself\u001B[39;49m\u001B[38;5;241;43m.\u001B[39;49m\u001B[43mfix_symbolic\u001B[49m\u001B[43m(\u001B[49m\u001B[43ml\u001B[49m\u001B[43m,\u001B[49m\u001B[43m \u001B[49m\u001B[43mi\u001B[49m\u001B[43m,\u001B[49m\u001B[43m \u001B[49m\u001B[43mj\u001B[49m\u001B[43m,\u001B[49m\u001B[43m \u001B[49m\u001B[43mname\u001B[49m\u001B[43m,\u001B[49m\u001B[43m \u001B[49m\u001B[43ma_range\u001B[49m\u001B[38;5;241;43m=\u001B[39;49m\u001B[43ma_range\u001B[49m\u001B[43m,\u001B[49m\u001B[43m \u001B[49m\u001B[43mb_range\u001B[49m\u001B[38;5;241;43m=\u001B[39;49m\u001B[43mb_range\u001B[49m\u001B[43m,\u001B[49m\u001B[43m \u001B[49m\u001B[43mverbose\u001B[49m\u001B[38;5;241;43m=\u001B[39;49m\u001B[38;5;28;43;01mFalse\u001B[39;49;00m\u001B[43m)\u001B[49m\n\u001B[1;32m   1089\u001B[0m     r2s\u001B[38;5;241m.\u001B[39mappend(r2\u001B[38;5;241m.\u001B[39mitem())\n\u001B[1;32m   1091\u001B[0m \u001B[38;5;28mself\u001B[39m\u001B[38;5;241m.\u001B[39munfix_symbolic(l, i, j)\n",
      "File \u001B[0;32m~/PycharmProjects/pykan/kan/KAN.py:441\u001B[0m, in \u001B[0;36mKAN.fix_symbolic\u001B[0;34m(self, l, i, j, fun_name, fit_params_bool, a_range, b_range, verbose, random)\u001B[0m\n\u001B[1;32m    439\u001B[0m x \u001B[38;5;241m=\u001B[39m \u001B[38;5;28mself\u001B[39m\u001B[38;5;241m.\u001B[39macts[l][:, i]\n\u001B[1;32m    440\u001B[0m y \u001B[38;5;241m=\u001B[39m \u001B[38;5;28mself\u001B[39m\u001B[38;5;241m.\u001B[39mspline_postacts[l][:, j, i]\n\u001B[0;32m--> 441\u001B[0m r2 \u001B[38;5;241m=\u001B[39m \u001B[38;5;28;43mself\u001B[39;49m\u001B[38;5;241;43m.\u001B[39;49m\u001B[43msymbolic_fun\u001B[49m\u001B[43m[\u001B[49m\u001B[43ml\u001B[49m\u001B[43m]\u001B[49m\u001B[38;5;241;43m.\u001B[39;49m\u001B[43mfix_symbolic\u001B[49m\u001B[43m(\u001B[49m\u001B[43mi\u001B[49m\u001B[43m,\u001B[49m\u001B[43m \u001B[49m\u001B[43mj\u001B[49m\u001B[43m,\u001B[49m\u001B[43m \u001B[49m\u001B[43mfun_name\u001B[49m\u001B[43m,\u001B[49m\u001B[43m \u001B[49m\u001B[43mx\u001B[49m\u001B[43m,\u001B[49m\u001B[43m \u001B[49m\u001B[43my\u001B[49m\u001B[43m,\u001B[49m\u001B[43m \u001B[49m\u001B[43ma_range\u001B[49m\u001B[38;5;241;43m=\u001B[39;49m\u001B[43ma_range\u001B[49m\u001B[43m,\u001B[49m\u001B[43m \u001B[49m\u001B[43mb_range\u001B[49m\u001B[38;5;241;43m=\u001B[39;49m\u001B[43mb_range\u001B[49m\u001B[43m,\u001B[49m\u001B[43m \u001B[49m\u001B[43mverbose\u001B[49m\u001B[38;5;241;43m=\u001B[39;49m\u001B[43mverbose\u001B[49m\u001B[43m)\u001B[49m\n\u001B[1;32m    442\u001B[0m \u001B[38;5;28;01mreturn\u001B[39;00m r2\n",
      "File \u001B[0;32m~/PycharmProjects/pykan/kan/Symbolic_KANLayer.py:222\u001B[0m, in \u001B[0;36mSymbolic_KANLayer.fix_symbolic\u001B[0;34m(self, i, j, fun_name, x, y, random, a_range, b_range, verbose)\u001B[0m\n\u001B[1;32m    219\u001B[0m     \u001B[38;5;28;01mreturn\u001B[39;00m \u001B[38;5;28;01mNone\u001B[39;00m\n\u001B[1;32m    220\u001B[0m \u001B[38;5;28;01melse\u001B[39;00m:\n\u001B[1;32m    221\u001B[0m     \u001B[38;5;66;03m#initialize from x & y and fun\u001B[39;00m\n\u001B[0;32m--> 222\u001B[0m     params, r2 \u001B[38;5;241m=\u001B[39m \u001B[43mfit_params\u001B[49m\u001B[43m(\u001B[49m\u001B[43mx\u001B[49m\u001B[43m,\u001B[49m\u001B[43my\u001B[49m\u001B[43m,\u001B[49m\u001B[43mfun\u001B[49m\u001B[43m,\u001B[49m\u001B[43m \u001B[49m\u001B[43ma_range\u001B[49m\u001B[38;5;241;43m=\u001B[39;49m\u001B[43ma_range\u001B[49m\u001B[43m,\u001B[49m\u001B[43m \u001B[49m\u001B[43mb_range\u001B[49m\u001B[38;5;241;43m=\u001B[39;49m\u001B[43mb_range\u001B[49m\u001B[43m,\u001B[49m\u001B[43m \u001B[49m\u001B[43mverbose\u001B[49m\u001B[38;5;241;43m=\u001B[39;49m\u001B[43mverbose\u001B[49m\u001B[43m,\u001B[49m\u001B[43m \u001B[49m\u001B[43mdevice\u001B[49m\u001B[38;5;241;43m=\u001B[39;49m\u001B[38;5;28;43mself\u001B[39;49m\u001B[38;5;241;43m.\u001B[39;49m\u001B[43mdevice\u001B[49m\u001B[43m)\u001B[49m\n\u001B[1;32m    223\u001B[0m     \u001B[38;5;28mself\u001B[39m\u001B[38;5;241m.\u001B[39mfuns[j][i] \u001B[38;5;241m=\u001B[39m fun\n\u001B[1;32m    224\u001B[0m     \u001B[38;5;28mself\u001B[39m\u001B[38;5;241m.\u001B[39maffine\u001B[38;5;241m.\u001B[39mdata[j][i] \u001B[38;5;241m=\u001B[39m params\n",
      "File \u001B[0;32m~/PycharmProjects/pykan/kan/utils.py:186\u001B[0m, in \u001B[0;36mfit_params\u001B[0;34m(x, y, fun, a_range, b_range, grid_number, iteration, verbose, device)\u001B[0m\n\u001B[1;32m    184\u001B[0m b_ \u001B[38;5;241m=\u001B[39m torch\u001B[38;5;241m.\u001B[39mlinspace(b_range[\u001B[38;5;241m0\u001B[39m], b_range[\u001B[38;5;241m1\u001B[39m], steps\u001B[38;5;241m=\u001B[39mgrid_number, device\u001B[38;5;241m=\u001B[39mdevice)\n\u001B[1;32m    185\u001B[0m a_grid, b_grid \u001B[38;5;241m=\u001B[39m torch\u001B[38;5;241m.\u001B[39mmeshgrid(a_, b_, indexing\u001B[38;5;241m=\u001B[39m\u001B[38;5;124m'\u001B[39m\u001B[38;5;124mij\u001B[39m\u001B[38;5;124m'\u001B[39m)\n\u001B[0;32m--> 186\u001B[0m post_fun \u001B[38;5;241m=\u001B[39m \u001B[43mfun\u001B[49m\u001B[43m(\u001B[49m\u001B[43ma_grid\u001B[49m\u001B[43m[\u001B[49m\u001B[38;5;28;43;01mNone\u001B[39;49;00m\u001B[43m,\u001B[49m\u001B[43m:\u001B[49m\u001B[43m,\u001B[49m\u001B[43m:\u001B[49m\u001B[43m]\u001B[49m\u001B[43m \u001B[49m\u001B[38;5;241;43m*\u001B[39;49m\u001B[43m \u001B[49m\u001B[43mx\u001B[49m\u001B[43m[\u001B[49m\u001B[43m:\u001B[49m\u001B[43m,\u001B[49m\u001B[38;5;28;43;01mNone\u001B[39;49;00m\u001B[43m,\u001B[49m\u001B[38;5;28;43;01mNone\u001B[39;49;00m\u001B[43m]\u001B[49m\u001B[43m \u001B[49m\u001B[38;5;241;43m+\u001B[39;49m\u001B[43m \u001B[49m\u001B[43mb_grid\u001B[49m\u001B[43m[\u001B[49m\u001B[38;5;28;43;01mNone\u001B[39;49;00m\u001B[43m,\u001B[49m\u001B[43m:\u001B[49m\u001B[43m,\u001B[49m\u001B[43m:\u001B[49m\u001B[43m]\u001B[49m\u001B[43m)\u001B[49m\n\u001B[1;32m    187\u001B[0m x_mean \u001B[38;5;241m=\u001B[39m torch\u001B[38;5;241m.\u001B[39mmean(post_fun, dim\u001B[38;5;241m=\u001B[39m[\u001B[38;5;241m0\u001B[39m], keepdim\u001B[38;5;241m=\u001B[39m\u001B[38;5;28;01mTrue\u001B[39;00m)\n\u001B[1;32m    188\u001B[0m y_mean \u001B[38;5;241m=\u001B[39m torch\u001B[38;5;241m.\u001B[39mmean(y, dim\u001B[38;5;241m=\u001B[39m[\u001B[38;5;241m0\u001B[39m], keepdim\u001B[38;5;241m=\u001B[39m\u001B[38;5;28;01mTrue\u001B[39;00m)\n",
      "Cell \u001B[0;32mIn[20], line 2\u001B[0m, in \u001B[0;36mml_torch\u001B[0;34m(x)\u001B[0m\n\u001B[1;32m      1\u001B[0m \u001B[38;5;28;01mdef\u001B[39;00m \u001B[38;5;21mml_torch\u001B[39m(x):\n\u001B[0;32m----> 2\u001B[0m     \u001B[38;5;28;01mreturn\u001B[39;00m torch\u001B[38;5;241m.\u001B[39mtensor(\u001B[43mml\u001B[49m\u001B[43m(\u001B[49m\u001B[43mx\u001B[49m\u001B[43m,\u001B[49m\u001B[43m \u001B[49m\u001B[38;5;241;43m2\u001B[39;49m\u001B[43m,\u001B[49m\u001B[43m \u001B[49m\u001B[38;5;241;43m2\u001B[39;49m\u001B[43m \u001B[49m\u001B[38;5;241;43m+\u001B[39;49m\u001B[43m \u001B[49m\u001B[38;5;241;43m0.5\u001B[39;49m\u001B[43m)\u001B[49m, dtype\u001B[38;5;241m=\u001B[39mnp\u001B[38;5;241m.\u001B[39mfloat64)\n",
      "File \u001B[0;32m~/PycharmProjects/pykan/tutorials/mittag_leffler.py:16\u001B[0m, in \u001B[0;36mml\u001B[0;34m(z, alpha, beta, gama)\u001B[0m\n\u001B[1;32m     13\u001B[0m     \u001B[38;5;28;01mif\u001B[39;00m (np\u001B[38;5;241m.\u001B[39mabs(np\u001B[38;5;241m.\u001B[39mangle(np\u001B[38;5;241m.\u001B[39mrepeat(z, np\u001B[38;5;241m.\u001B[39mabs(z) \u001B[38;5;241m>\u001B[39m eps))) \u001B[38;5;241m<\u001B[39m\u001B[38;5;241m=\u001B[39m alpha\u001B[38;5;241m*\u001B[39mnp\u001B[38;5;241m.\u001B[39mpi)\u001B[38;5;241m.\u001B[39many():\n\u001B[1;32m     14\u001B[0m         \u001B[38;5;28;01mraise\u001B[39;00m \u001B[38;5;167;01mValueError\u001B[39;00m(\u001B[38;5;124m'\u001B[39m\u001B[38;5;124m|Arg(z)| <= alpha*pi\u001B[39m\u001B[38;5;124m'\u001B[39m)\n\u001B[0;32m---> 16\u001B[0m \u001B[38;5;28;01mreturn\u001B[39;00m \u001B[43mnp\u001B[49m\u001B[38;5;241;43m.\u001B[39;49m\u001B[43mvectorize\u001B[49m\u001B[43m(\u001B[49m\u001B[43mml_\u001B[49m\u001B[43m,\u001B[49m\u001B[43m \u001B[49m\u001B[43m[\u001B[49m\u001B[43mnp\u001B[49m\u001B[38;5;241;43m.\u001B[39;49m\u001B[43mfloat64\u001B[49m\u001B[43m]\u001B[49m\u001B[43m)\u001B[49m\u001B[43m(\u001B[49m\u001B[43mz\u001B[49m\u001B[43m,\u001B[49m\u001B[43m \u001B[49m\u001B[43malpha\u001B[49m\u001B[43m,\u001B[49m\u001B[43m \u001B[49m\u001B[43mbeta\u001B[49m\u001B[43m,\u001B[49m\u001B[43m \u001B[49m\u001B[43mgama\u001B[49m\u001B[43m)\u001B[49m\n",
      "File \u001B[0;32m~/PycharmProjects/pykan/venv/lib/python3.8/site-packages/numpy/lib/function_base.py:2329\u001B[0m, in \u001B[0;36mvectorize.__call__\u001B[0;34m(self, *args, **kwargs)\u001B[0m\n\u001B[1;32m   2326\u001B[0m     vargs \u001B[38;5;241m=\u001B[39m [args[_i] \u001B[38;5;28;01mfor\u001B[39;00m _i \u001B[38;5;129;01min\u001B[39;00m inds]\n\u001B[1;32m   2327\u001B[0m     vargs\u001B[38;5;241m.\u001B[39mextend([kwargs[_n] \u001B[38;5;28;01mfor\u001B[39;00m _n \u001B[38;5;129;01min\u001B[39;00m names])\n\u001B[0;32m-> 2329\u001B[0m \u001B[38;5;28;01mreturn\u001B[39;00m \u001B[38;5;28;43mself\u001B[39;49m\u001B[38;5;241;43m.\u001B[39;49m\u001B[43m_vectorize_call\u001B[49m\u001B[43m(\u001B[49m\u001B[43mfunc\u001B[49m\u001B[38;5;241;43m=\u001B[39;49m\u001B[43mfunc\u001B[49m\u001B[43m,\u001B[49m\u001B[43m \u001B[49m\u001B[43margs\u001B[49m\u001B[38;5;241;43m=\u001B[39;49m\u001B[43mvargs\u001B[49m\u001B[43m)\u001B[49m\n",
      "File \u001B[0;32m~/PycharmProjects/pykan/venv/lib/python3.8/site-packages/numpy/lib/function_base.py:2412\u001B[0m, in \u001B[0;36mvectorize._vectorize_call\u001B[0;34m(self, func, args)\u001B[0m\n\u001B[1;32m   2409\u001B[0m \u001B[38;5;66;03m# Convert args to object arrays first\u001B[39;00m\n\u001B[1;32m   2410\u001B[0m inputs \u001B[38;5;241m=\u001B[39m [asanyarray(a, dtype\u001B[38;5;241m=\u001B[39m\u001B[38;5;28mobject\u001B[39m) \u001B[38;5;28;01mfor\u001B[39;00m a \u001B[38;5;129;01min\u001B[39;00m args]\n\u001B[0;32m-> 2412\u001B[0m outputs \u001B[38;5;241m=\u001B[39m \u001B[43mufunc\u001B[49m\u001B[43m(\u001B[49m\u001B[38;5;241;43m*\u001B[39;49m\u001B[43minputs\u001B[49m\u001B[43m)\u001B[49m\n\u001B[1;32m   2414\u001B[0m \u001B[38;5;28;01mif\u001B[39;00m ufunc\u001B[38;5;241m.\u001B[39mnout \u001B[38;5;241m==\u001B[39m \u001B[38;5;241m1\u001B[39m:\n\u001B[1;32m   2415\u001B[0m     res \u001B[38;5;241m=\u001B[39m asanyarray(outputs, dtype\u001B[38;5;241m=\u001B[39motypes[\u001B[38;5;241m0\u001B[39m])\n",
      "File \u001B[0;32m~/PycharmProjects/pykan/tutorials/mittag_leffler.py:25\u001B[0m, in \u001B[0;36mml_\u001B[0;34m(z, alpha, beta, gama)\u001B[0m\n\u001B[1;32m     23\u001B[0m     \u001B[38;5;28;01mreturn\u001B[39;00m \u001B[38;5;241m1\u001B[39m\u001B[38;5;241m/\u001B[39mgamma(beta)\n\u001B[1;32m     24\u001B[0m \u001B[38;5;28;01melse\u001B[39;00m:\n\u001B[0;32m---> 25\u001B[0m     \u001B[38;5;28;01mreturn\u001B[39;00m \u001B[43mLTInversion\u001B[49m\u001B[43m(\u001B[49m\u001B[38;5;241;43m1\u001B[39;49m\u001B[43m,\u001B[49m\u001B[43m \u001B[49m\u001B[43mz\u001B[49m\u001B[43m,\u001B[49m\u001B[43m \u001B[49m\u001B[43malpha\u001B[49m\u001B[43m,\u001B[49m\u001B[43m \u001B[49m\u001B[43mbeta\u001B[49m\u001B[43m,\u001B[49m\u001B[43m \u001B[49m\u001B[43mgama\u001B[49m\u001B[43m,\u001B[49m\u001B[43m \u001B[49m\u001B[43mlog_epsilon\u001B[49m\u001B[43m)\u001B[49m\n",
      "File \u001B[0;32m~/PycharmProjects/pykan/tutorials/ml_internal.py:55\u001B[0m, in \u001B[0;36mLTInversion\u001B[0;34m(t, lamda, alpha, beta, gama, log_epsilon)\u001B[0m\n\u001B[1;32m     53\u001B[0m \u001B[38;5;28;01mfor\u001B[39;00m j1 \u001B[38;5;129;01min\u001B[39;00m admissible_regions:\n\u001B[1;32m     54\u001B[0m     \u001B[38;5;28;01mif\u001B[39;00m j1 \u001B[38;5;241m<\u001B[39m J1\u001B[38;5;241m-\u001B[39m\u001B[38;5;241m1\u001B[39m:\n\u001B[0;32m---> 55\u001B[0m         muj, hj, Nj \u001B[38;5;241m=\u001B[39m \u001B[43mOptimalParam_RB\u001B[49m\u001B[43m(\u001B[49m\u001B[43mt\u001B[49m\u001B[43m,\u001B[49m\u001B[43m \u001B[49m\u001B[43mphi_s_star\u001B[49m\u001B[43m[\u001B[49m\u001B[43mj1\u001B[49m\u001B[43m]\u001B[49m\u001B[43m,\u001B[49m\u001B[43m \u001B[49m\u001B[43mphi_s_star\u001B[49m\u001B[43m[\u001B[49m\u001B[43mj1\u001B[49m\u001B[38;5;241;43m+\u001B[39;49m\u001B[38;5;241;43m1\u001B[39;49m\u001B[43m]\u001B[49m\u001B[43m,\u001B[49m\u001B[43m \u001B[49m\u001B[43mp\u001B[49m\u001B[43m[\u001B[49m\u001B[43mj1\u001B[49m\u001B[43m]\u001B[49m\u001B[43m,\u001B[49m\u001B[43m \u001B[49m\u001B[43mq\u001B[49m\u001B[43m[\u001B[49m\u001B[43mj1\u001B[49m\u001B[43m]\u001B[49m\u001B[43m,\u001B[49m\u001B[43m \u001B[49m\u001B[43mlog_epsilon\u001B[49m\u001B[43m)\u001B[49m\n\u001B[1;32m     56\u001B[0m     \u001B[38;5;28;01melse\u001B[39;00m:\n\u001B[1;32m     57\u001B[0m         muj, hj, Nj \u001B[38;5;241m=\u001B[39m OptimalParam_RU(t, phi_s_star[j1], p[j1], log_epsilon)\n",
      "File \u001B[0;32m~/PycharmProjects/pykan/tutorials/ml_internal.py:106\u001B[0m, in \u001B[0;36mOptimalParam_RB\u001B[0;34m(t, phi_s_star_j, phi_s_star_j1, pj, qj, log_epsilon)\u001B[0m\n\u001B[1;32m    103\u001B[0m f_max \u001B[38;5;241m=\u001B[39m np\u001B[38;5;241m.\u001B[39mexp(log_epsilon \u001B[38;5;241m-\u001B[39m log_eps)\n\u001B[1;32m    105\u001B[0m \u001B[38;5;66;03m# Evaluation of the starting values for sq_phi_star_j and sq_phi_star_j1\u001B[39;00m\n\u001B[0;32m--> 106\u001B[0m sq_phi_star_j \u001B[38;5;241m=\u001B[39m \u001B[43mnp\u001B[49m\u001B[38;5;241;43m.\u001B[39;49m\u001B[43msqrt\u001B[49m\u001B[43m(\u001B[49m\u001B[43mphi_s_star_j\u001B[49m\u001B[43m)\u001B[49m\n\u001B[1;32m    107\u001B[0m threshold \u001B[38;5;241m=\u001B[39m \u001B[38;5;241m2.\u001B[39m\u001B[38;5;241m*\u001B[39mnp\u001B[38;5;241m.\u001B[39msqrt((log_epsilon \u001B[38;5;241m-\u001B[39m log_eps)\u001B[38;5;241m/\u001B[39mt)\n\u001B[1;32m    108\u001B[0m sq_phi_star_j1 \u001B[38;5;241m=\u001B[39m \u001B[38;5;28mmin\u001B[39m(np\u001B[38;5;241m.\u001B[39msqrt(phi_s_star_j1), threshold \u001B[38;5;241m-\u001B[39m sq_phi_star_j)\n",
      "\u001B[0;31mKeyboardInterrupt\u001B[0m: "
     ]
    }
   ],
   "execution_count": 22
  },
  {
   "metadata": {},
   "cell_type": "code",
   "source": "model.train(dataset, opt=\"LBFGS\", steps=20);",
   "id": "9f23428163b9a294",
   "outputs": [],
   "execution_count": null
  },
  {
   "metadata": {},
   "cell_type": "code",
   "outputs": [],
   "execution_count": null,
   "source": "model.plot()",
   "id": "5e1003e428870ade"
  },
  {
   "metadata": {},
   "cell_type": "code",
   "outputs": [],
   "execution_count": null,
   "source": "model.suggest_symbolic(0,0,0,a_range=(-40,40))",
   "id": "b20b1874325140c9"
  }
 ],
 "metadata": {
  "kernelspec": {
   "display_name": "Python 3",
   "language": "python",
   "name": "python3"
  },
  "language_info": {
   "codemirror_mode": {
    "name": "ipython",
    "version": 2
   },
   "file_extension": ".py",
   "mimetype": "text/x-python",
   "name": "python",
   "nbconvert_exporter": "python",
   "pygments_lexer": "ipython2",
   "version": "2.7.6"
  }
 },
 "nbformat": 4,
 "nbformat_minor": 5
}
